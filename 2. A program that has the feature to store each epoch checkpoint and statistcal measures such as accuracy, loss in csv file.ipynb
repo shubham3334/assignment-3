{
 "cells": [
  {
   "cell_type": "markdown",
   "metadata": {},
   "source": [
    "# 2. A program that has the feature to store each epoch checkpoint and statistcal measures such as accuracy, loss in csv file"
   ]
  },
  {
   "cell_type": "code",
   "execution_count": 1,
   "metadata": {},
   "outputs": [],
   "source": [
    "import pandas as pd"
   ]
  },
  {
   "cell_type": "code",
   "execution_count": 2,
   "metadata": {},
   "outputs": [],
   "source": [
    "df = pd.read_csv('wines.csv')"
   ]
  },
  {
   "cell_type": "code",
   "execution_count": 3,
   "metadata": {},
   "outputs": [
    {
     "name": "stdout",
     "output_type": "stream",
     "text": [
      "<class 'pandas.core.frame.DataFrame'>\n",
      "RangeIndex: 178 entries, 0 to 177\n",
      "Data columns (total 14 columns):\n",
      " #   Column                        Non-Null Count  Dtype  \n",
      "---  ------                        --------------  -----  \n",
      " 0   Class                         178 non-null    int64  \n",
      " 1   Alcohol                       178 non-null    float64\n",
      " 2   Malic_acid                    178 non-null    float64\n",
      " 3   Ash                           178 non-null    float64\n",
      " 4   Alcalinity_of_ash             178 non-null    float64\n",
      " 5   Magnesium                     178 non-null    int64  \n",
      " 6   Total_phenols                 178 non-null    float64\n",
      " 7   Flavanoids                    178 non-null    float64\n",
      " 8   Nonflavanoid_phenols          178 non-null    float64\n",
      " 9   Proanthocyanins               178 non-null    float64\n",
      " 10  Color_intensity               178 non-null    float64\n",
      " 11  Hue                           178 non-null    float64\n",
      " 12  OD280-OD315_of_diluted_wines  178 non-null    float64\n",
      " 13  Proline                       178 non-null    int64  \n",
      "dtypes: float64(11), int64(3)\n",
      "memory usage: 19.6 KB\n"
     ]
    }
   ],
   "source": [
    "df.info()"
   ]
  },
  {
   "cell_type": "code",
   "execution_count": 4,
   "metadata": {},
   "outputs": [],
   "source": [
    "y = df['Class']"
   ]
  },
  {
   "cell_type": "code",
   "execution_count": 5,
   "metadata": {},
   "outputs": [
    {
     "data": {
      "text/plain": [
       "2    71\n",
       "1    59\n",
       "3    48\n",
       "Name: Class, dtype: int64"
      ]
     },
     "execution_count": 5,
     "metadata": {},
     "output_type": "execute_result"
    }
   ],
   "source": [
    "y.value_counts()"
   ]
  },
  {
   "cell_type": "code",
   "execution_count": 6,
   "metadata": {},
   "outputs": [],
   "source": [
    "y_cat = pd.get_dummies(y)"
   ]
  },
  {
   "cell_type": "code",
   "execution_count": 7,
   "metadata": {},
   "outputs": [
    {
     "data": {
      "text/plain": [
       "0      1\n",
       "1      1\n",
       "2      1\n",
       "3      1\n",
       "4      1\n",
       "      ..\n",
       "173    3\n",
       "174    3\n",
       "175    3\n",
       "176    3\n",
       "177    3\n",
       "Name: Class, Length: 178, dtype: int64"
      ]
     },
     "execution_count": 7,
     "metadata": {},
     "output_type": "execute_result"
    }
   ],
   "source": [
    "y"
   ]
  },
  {
   "cell_type": "code",
   "execution_count": null,
   "metadata": {},
   "outputs": [],
   "source": []
  },
  {
   "cell_type": "code",
   "execution_count": 8,
   "metadata": {},
   "outputs": [
    {
     "data": {
      "text/plain": [
       "Index(['Class', 'Alcohol', 'Malic_acid', 'Ash', 'Alcalinity_of_ash',\n",
       "       'Magnesium', 'Total_phenols', 'Flavanoids', 'Nonflavanoid_phenols',\n",
       "       'Proanthocyanins', 'Color_intensity', 'Hue',\n",
       "       'OD280-OD315_of_diluted_wines', 'Proline'],\n",
       "      dtype='object')"
      ]
     },
     "execution_count": 8,
     "metadata": {},
     "output_type": "execute_result"
    }
   ],
   "source": [
    "df.columns"
   ]
  },
  {
   "cell_type": "code",
   "execution_count": 9,
   "metadata": {},
   "outputs": [],
   "source": [
    "X = df.drop('Class' , axis=1)"
   ]
  },
  {
   "cell_type": "code",
   "execution_count": 10,
   "metadata": {},
   "outputs": [
    {
     "name": "stdout",
     "output_type": "stream",
     "text": [
      "<class 'pandas.core.frame.DataFrame'>\n",
      "RangeIndex: 178 entries, 0 to 177\n",
      "Data columns (total 13 columns):\n",
      " #   Column                        Non-Null Count  Dtype  \n",
      "---  ------                        --------------  -----  \n",
      " 0   Alcohol                       178 non-null    float64\n",
      " 1   Malic_acid                    178 non-null    float64\n",
      " 2   Ash                           178 non-null    float64\n",
      " 3   Alcalinity_of_ash             178 non-null    float64\n",
      " 4   Magnesium                     178 non-null    int64  \n",
      " 5   Total_phenols                 178 non-null    float64\n",
      " 6   Flavanoids                    178 non-null    float64\n",
      " 7   Nonflavanoid_phenols          178 non-null    float64\n",
      " 8   Proanthocyanins               178 non-null    float64\n",
      " 9   Color_intensity               178 non-null    float64\n",
      " 10  Hue                           178 non-null    float64\n",
      " 11  OD280-OD315_of_diluted_wines  178 non-null    float64\n",
      " 12  Proline                       178 non-null    int64  \n",
      "dtypes: float64(11), int64(2)\n",
      "memory usage: 18.2 KB\n"
     ]
    }
   ],
   "source": [
    "X.info()"
   ]
  },
  {
   "cell_type": "code",
   "execution_count": 11,
   "metadata": {},
   "outputs": [],
   "source": [
    "import seaborn as sns"
   ]
  },
  {
   "cell_type": "code",
   "execution_count": 12,
   "metadata": {},
   "outputs": [
    {
     "data": {
      "text/plain": [
       "<matplotlib.axes._subplots.AxesSubplot at 0x14c23ef0108>"
      ]
     },
     "execution_count": 12,
     "metadata": {},
     "output_type": "execute_result"
    },
    {
     "data": {
      "image/png": "[encoded data removed]",
      "text/plain": [
       "<Figure size 432x288 with 1 Axes>"
      ]
     },
     "metadata": {
      "needs_background": "light"
     },
     "output_type": "display_data"
    }
   ],
   "source": [
    "sns.scatterplot(x='Alcohol' , y=y , data=df)"
   ]
  },
  {
   "cell_type": "code",
   "execution_count": 13,
   "metadata": {},
   "outputs": [],
   "source": [
    "from keras.models import Sequential"
   ]
  },
  {
   "cell_type": "code",
   "execution_count": 14,
   "metadata": {},
   "outputs": [],
   "source": [
    "model  =  Sequential()"
   ]
  },
  {
   "cell_type": "code",
   "execution_count": 18,
   "metadata": {},
   "outputs": [
    {
     "name": "stdout",
     "output_type": "stream",
     "text": [
      "<class 'pandas.core.frame.DataFrame'>\n",
      "RangeIndex: 178 entries, 0 to 177\n",
      "Data columns (total 13 columns):\n",
      " #   Column                        Non-Null Count  Dtype  \n",
      "---  ------                        --------------  -----  \n",
      " 0   Alcohol                       178 non-null    float64\n",
      " 1   Malic_acid                    178 non-null    float64\n",
      " 2   Ash                           178 non-null    float64\n",
      " 3   Alcalinity_of_ash             178 non-null    float64\n",
      " 4   Magnesium                     178 non-null    int64  \n",
      " 5   Total_phenols                 178 non-null    float64\n",
      " 6   Flavanoids                    178 non-null    float64\n",
      " 7   Nonflavanoid_phenols          178 non-null    float64\n",
      " 8   Proanthocyanins               178 non-null    float64\n",
      " 9   Color_intensity               178 non-null    float64\n",
      " 10  Hue                           178 non-null    float64\n",
      " 11  OD280-OD315_of_diluted_wines  178 non-null    float64\n",
      " 12  Proline                       178 non-null    int64  \n",
      "dtypes: float64(11), int64(2)\n",
      "memory usage: 18.2 KB\n"
     ]
    }
   ],
   "source": [
    "X.info()"
   ]
  },
  {
   "cell_type": "code",
   "execution_count": 39,
   "metadata": {},
   "outputs": [
    {
     "data": {
      "text/plain": [
       "(178, 13)"
      ]
     },
     "execution_count": 39,
     "metadata": {},
     "output_type": "execute_result"
    }
   ],
   "source": [
    "X.shape"
   ]
  },
  {
   "cell_type": "code",
   "execution_count": 40,
   "metadata": {},
   "outputs": [
    {
     "data": {
      "text/plain": [
       "(178, 3)"
      ]
     },
     "execution_count": 40,
     "metadata": {},
     "output_type": "execute_result"
    }
   ],
   "source": [
    "y_cat.shape"
   ]
  },
  {
   "cell_type": "code",
   "execution_count": 16,
   "metadata": {},
   "outputs": [],
   "source": [
    "from keras.layers import Dense"
   ]
  },
  {
   "cell_type": "code",
   "execution_count": 20,
   "metadata": {},
   "outputs": [],
   "source": [
    "model.add(Dense(units=5 , input_shape=(13,), \n",
    "                activation='relu', \n",
    "                kernel_initializer='he_normal' ))"
   ]
  },
  {
   "cell_type": "code",
   "execution_count": 21,
   "metadata": {},
   "outputs": [
    {
     "name": "stdout",
     "output_type": "stream",
     "text": [
      "Model: \"sequential_1\"\n",
      "_________________________________________________________________\n",
      "Layer (type)                 Output Shape              Param #   \n",
      "=================================================================\n",
      "dense_1 (Dense)              (None, 5)                 70        \n",
      "=================================================================\n",
      "Total params: 70\n",
      "Trainable params: 70\n",
      "Non-trainable params: 0\n",
      "_________________________________________________________________\n"
     ]
    }
   ],
   "source": [
    "model.summary()"
   ]
  },
  {
   "cell_type": "code",
   "execution_count": 22,
   "metadata": {},
   "outputs": [],
   "source": [
    "model.add(Dense(units=8 , \n",
    "                activation='relu', \n",
    "                kernel_initializer='he_normal' ))"
   ]
  },
  {
   "cell_type": "code",
   "execution_count": 23,
   "metadata": {},
   "outputs": [
    {
     "name": "stdout",
     "output_type": "stream",
     "text": [
      "Model: \"sequential_1\"\n",
      "_________________________________________________________________\n",
      "Layer (type)                 Output Shape              Param #   \n",
      "=================================================================\n",
      "dense_1 (Dense)              (None, 5)                 70        \n",
      "_________________________________________________________________\n",
      "dense_2 (Dense)              (None, 8)                 48        \n",
      "=================================================================\n",
      "Total params: 118\n",
      "Trainable params: 118\n",
      "Non-trainable params: 0\n",
      "_________________________________________________________________\n"
     ]
    }
   ],
   "source": [
    "model.summary()"
   ]
  },
  {
   "cell_type": "code",
   "execution_count": 24,
   "metadata": {},
   "outputs": [],
   "source": [
    "model.add(Dense(units=2, \n",
    "                activation='relu', \n",
    "                kernel_initializer='he_normal' ))"
   ]
  },
  {
   "cell_type": "code",
   "execution_count": 25,
   "metadata": {},
   "outputs": [
    {
     "name": "stdout",
     "output_type": "stream",
     "text": [
      "Model: \"sequential_1\"\n",
      "_________________________________________________________________\n",
      "Layer (type)                 Output Shape              Param #   \n",
      "=================================================================\n",
      "dense_1 (Dense)              (None, 5)                 70        \n",
      "_________________________________________________________________\n",
      "dense_2 (Dense)              (None, 8)                 48        \n",
      "_________________________________________________________________\n",
      "dense_3 (Dense)              (None, 2)                 18        \n",
      "=================================================================\n",
      "Total params: 136\n",
      "Trainable params: 136\n",
      "Non-trainable params: 0\n",
      "_________________________________________________________________\n"
     ]
    }
   ],
   "source": [
    "model.summary()"
   ]
  },
  {
   "cell_type": "code",
   "execution_count": 26,
   "metadata": {},
   "outputs": [],
   "source": [
    "    model.add(Dense(units=3, activation='softmax'))"
   ]
  },
  {
   "cell_type": "code",
   "execution_count": 27,
   "metadata": {},
   "outputs": [
    {
     "name": "stdout",
     "output_type": "stream",
     "text": [
      "Model: \"sequential_1\"\n",
      "_________________________________________________________________\n",
      "Layer (type)                 Output Shape              Param #   \n",
      "=================================================================\n",
      "dense_1 (Dense)              (None, 5)                 70        \n",
      "_________________________________________________________________\n",
      "dense_2 (Dense)              (None, 8)                 48        \n",
      "_________________________________________________________________\n",
      "dense_3 (Dense)              (None, 2)                 18        \n",
      "_________________________________________________________________\n",
      "dense_4 (Dense)              (None, 3)                 9         \n",
      "=================================================================\n",
      "Total params: 145\n",
      "Trainable params: 145\n",
      "Non-trainable params: 0\n",
      "_________________________________________________________________\n"
     ]
    }
   ],
   "source": [
    "model.summary()"
   ]
  },
  {
   "cell_type": "code",
   "execution_count": 28,
   "metadata": {},
   "outputs": [],
   "source": [
    "from keras.optimizers import RMSprop"
   ]
  },
  {
   "cell_type": "code",
   "execution_count": 30,
   "metadata": {},
   "outputs": [],
   "source": [
    "model.compile(optimizer=RMSprop(learning_rate=0.01),  \n",
    "              loss='categorical_crossentropy',\n",
    "             metrics=['accuracy']\n",
    "             )"
   ]
  },
  {
   "cell_type": "code",
   "execution_count": 34,
   "metadata": {},
   "outputs": [
    {
     "data": {
      "text/plain": [
       "<tf.Tensor 'dense_1_input:0' shape=(None, 13) dtype=float32>"
      ]
     },
     "execution_count": 34,
     "metadata": {},
     "output_type": "execute_result"
    }
   ],
   "source": [
    "model.layers[0].input"
   ]
  },
  {
   "cell_type": "code",
   "execution_count": 37,
   "metadata": {},
   "outputs": [
    {
     "data": {
      "text/plain": [
       "<tf.Tensor 'dense_4/Softmax:0' shape=(None, 3) dtype=float32>"
      ]
     },
     "execution_count": 37,
     "metadata": {},
     "output_type": "execute_result"
    }
   ],
   "source": [
    "model.layers[3].output"
   ]
  },
  {
   "cell_type": "code",
   "execution_count": 38,
   "metadata": {},
   "outputs": [
    {
     "data": {
      "text/plain": [
       "<tf.Tensor 'dense_3/Relu:0' shape=(None, 2) dtype=float32>"
      ]
     },
     "execution_count": 38,
     "metadata": {},
     "output_type": "execute_result"
    }
   ],
   "source": [
    "model.layers[2].output"
   ]
  },
  {
   "cell_type": "code",
   "execution_count": 45,
   "metadata": {},
   "outputs": [
    {
     "name": "stdout",
     "output_type": "stream",
     "text": [
      "Epoch 1/100\n",
      "178/178 [==============================] - 0s 67us/step - loss: 1.0865 - accuracy: 0.3989\n",
      "Epoch 2/100\n",
      "178/178 [==============================] - 0s 62us/step - loss: 1.0871 - accuracy: 0.3989\n",
      "Epoch 3/100\n",
      "178/178 [==============================] - 0s 34us/step - loss: 1.0869 - accuracy: 0.3989\n",
      "Epoch 4/100\n",
      "178/178 [==============================] - 0s 39us/step - loss: 1.0864 - accuracy: 0.3989\n",
      "Epoch 5/100\n",
      "178/178 [==============================] - 0s 62us/step - loss: 1.0882 - accuracy: 0.3989\n",
      "Epoch 6/100\n",
      "178/178 [==============================] - 0s 62us/step - loss: 1.0874 - accuracy: 0.3989\n",
      "Epoch 7/100\n",
      "178/178 [==============================] - 0s 62us/step - loss: 1.0868 - accuracy: 0.3989\n",
      "Epoch 8/100\n",
      "178/178 [==============================] - 0s 84us/step - loss: 1.0881 - accuracy: 0.3989\n",
      "Epoch 9/100\n",
      "178/178 [==============================] - 0s 62us/step - loss: 1.0868 - accuracy: 0.3989\n",
      "Epoch 10/100\n",
      "178/178 [==============================] - 0s 67us/step - loss: 1.0868 - accuracy: 0.3989\n",
      "Epoch 11/100\n",
      "178/178 [==============================] - 0s 73us/step - loss: 1.0866 - accuracy: 0.3989\n",
      "Epoch 12/100\n",
      "178/178 [==============================] - 0s 73us/step - loss: 1.0868 - accuracy: 0.3989\n",
      "Epoch 13/100\n",
      "178/178 [==============================] - 0s 62us/step - loss: 1.0870 - accuracy: 0.3989\n",
      "Epoch 14/100\n",
      "178/178 [==============================] - 0s 84us/step - loss: 1.0869 - accuracy: 0.3989\n",
      "Epoch 15/100\n",
      "178/178 [==============================] - 0s 62us/step - loss: 1.0873 - accuracy: 0.3989\n",
      "Epoch 16/100\n",
      "178/178 [==============================] - 0s 50us/step - loss: 1.0872 - accuracy: 0.3989\n",
      "Epoch 17/100\n",
      "178/178 [==============================] - 0s 78us/step - loss: 1.0872 - accuracy: 0.3989\n",
      "Epoch 18/100\n",
      "178/178 [==============================] - 0s 56us/step - loss: 1.0866 - accuracy: 0.3989\n",
      "Epoch 19/100\n",
      "178/178 [==============================] - 0s 67us/step - loss: 1.0871 - accuracy: 0.3989\n",
      "Epoch 20/100\n",
      "178/178 [==============================] - 0s 67us/step - loss: 1.0866 - accuracy: 0.3989\n",
      "Epoch 21/100\n",
      "178/178 [==============================] - 0s 62us/step - loss: 1.0873 - accuracy: 0.3989\n",
      "Epoch 22/100\n",
      "178/178 [==============================] - 0s 73us/step - loss: 1.0870 - accuracy: 0.3989\n",
      "Epoch 23/100\n",
      "178/178 [==============================] - 0s 62us/step - loss: 1.0867 - accuracy: 0.3989\n",
      "Epoch 24/100\n",
      "178/178 [==============================] - 0s 84us/step - loss: 1.0867 - accuracy: 0.3989\n",
      "Epoch 25/100\n",
      "178/178 [==============================] - 0s 67us/step - loss: 1.0880 - accuracy: 0.3989\n",
      "Epoch 26/100\n",
      "178/178 [==============================] - 0s 81us/step - loss: 1.0868 - accuracy: 0.3989\n",
      "Epoch 27/100\n",
      "178/178 [==============================] - 0s 56us/step - loss: 1.0871 - accuracy: 0.3989\n",
      "Epoch 28/100\n",
      "178/178 [==============================] - 0s 73us/step - loss: 1.0868 - accuracy: 0.3989\n",
      "Epoch 29/100\n",
      "178/178 [==============================] - 0s 62us/step - loss: 1.0868 - accuracy: 0.3989\n",
      "Epoch 30/100\n",
      "178/178 [==============================] - 0s 78us/step - loss: 1.0872 - accuracy: 0.3989\n",
      "Epoch 31/100\n",
      "178/178 [==============================] - 0s 67us/step - loss: 1.0870 - accuracy: 0.3989\n",
      "Epoch 32/100\n",
      "178/178 [==============================] - 0s 62us/step - loss: 1.0864 - accuracy: 0.3989\n",
      "Epoch 33/100\n",
      "178/178 [==============================] - 0s 65us/step - loss: 1.0875 - accuracy: 0.3989\n",
      "Epoch 34/100\n",
      "178/178 [==============================] - 0s 84us/step - loss: 1.0876 - accuracy: 0.3989\n",
      "Epoch 35/100\n",
      "178/178 [==============================] - 0s 73us/step - loss: 1.0870 - accuracy: 0.3989\n",
      "Epoch 36/100\n",
      "178/178 [==============================] - 0s 78us/step - loss: 1.0871 - accuracy: 0.3989\n",
      "Epoch 37/100\n",
      "178/178 [==============================] - 0s 62us/step - loss: 1.0871 - accuracy: 0.3989\n",
      "Epoch 38/100\n",
      "178/178 [==============================] - 0s 78us/step - loss: 1.0871 - accuracy: 0.3989\n",
      "Epoch 39/100\n",
      "178/178 [==============================] - 0s 95us/step - loss: 1.0874 - accuracy: 0.3989\n",
      "Epoch 40/100\n",
      "178/178 [==============================] - 0s 50us/step - loss: 1.0874 - accuracy: 0.3989\n",
      "Epoch 41/100\n",
      "178/178 [==============================] - 0s 90us/step - loss: 1.0868 - accuracy: 0.3989\n",
      "Epoch 42/100\n",
      "178/178 [==============================] - 0s 78us/step - loss: 1.0880 - accuracy: 0.3989\n",
      "Epoch 43/100\n",
      "178/178 [==============================] - 0s 62us/step - loss: 1.0870 - accuracy: 0.3989\n",
      "Epoch 44/100\n",
      "178/178 [==============================] - 0s 78us/step - loss: 1.0866 - accuracy: 0.3989\n",
      "Epoch 45/100\n",
      "178/178 [==============================] - 0s 101us/step - loss: 1.0871 - accuracy: 0.3989\n",
      "Epoch 46/100\n",
      "178/178 [==============================] - 0s 106us/step - loss: 1.0869 - accuracy: 0.3989\n",
      "Epoch 47/100\n",
      "178/178 [==============================] - 0s 95us/step - loss: 1.0867 - accuracy: 0.3989\n",
      "Epoch 48/100\n",
      "178/178 [==============================] - 0s 84us/step - loss: 1.0872 - accuracy: 0.3989\n",
      "Epoch 49/100\n",
      "178/178 [==============================] - 0s 90us/step - loss: 1.0865 - accuracy: 0.3989\n",
      "Epoch 50/100\n",
      "178/178 [==============================] - 0s 78us/step - loss: 1.0865 - accuracy: 0.3989\n",
      "Epoch 51/100\n",
      "178/178 [==============================] - 0s 123us/step - loss: 1.0866 - accuracy: 0.3989\n",
      "Epoch 52/100\n",
      "178/178 [==============================] - 0s 67us/step - loss: 1.0868 - accuracy: 0.3989\n",
      "Epoch 53/100\n",
      "178/178 [==============================] - 0s 90us/step - loss: 1.0871 - accuracy: 0.3989\n",
      "Epoch 54/100\n",
      "178/178 [==============================] - 0s 84us/step - loss: 1.0866 - accuracy: 0.3989\n",
      "Epoch 55/100\n",
      "178/178 [==============================] - 0s 95us/step - loss: 1.0867 - accuracy: 0.3989\n",
      "Epoch 56/100\n",
      "178/178 [==============================] - 0s 84us/step - loss: 1.0875 - accuracy: 0.3989\n",
      "Epoch 57/100\n",
      "178/178 [==============================] - 0s 84us/step - loss: 1.0877 - accuracy: 0.3989\n",
      "Epoch 58/100\n",
      "178/178 [==============================] - 0s 84us/step - loss: 1.0868 - accuracy: 0.3989\n",
      "Epoch 59/100\n",
      "178/178 [==============================] - 0s 106us/step - loss: 1.0870 - accuracy: 0.3989\n",
      "Epoch 60/100\n",
      "178/178 [==============================] - 0s 73us/step - loss: 1.0878 - accuracy: 0.3989\n",
      "Epoch 61/100\n",
      "178/178 [==============================] - 0s 95us/step - loss: 1.0870 - accuracy: 0.3989\n",
      "Epoch 62/100\n",
      "178/178 [==============================] - 0s 90us/step - loss: 1.0874 - accuracy: 0.3989\n",
      "Epoch 63/100\n",
      "178/178 [==============================] - 0s 112us/step - loss: 1.0872 - accuracy: 0.3989\n",
      "Epoch 64/100\n",
      "178/178 [==============================] - 0s 81us/step - loss: 1.0869 - accuracy: 0.3989\n",
      "Epoch 65/100\n",
      "178/178 [==============================] - 0s 84us/step - loss: 1.0871 - accuracy: 0.3989\n",
      "Epoch 66/100\n",
      "178/178 [==============================] - 0s 95us/step - loss: 1.0864 - accuracy: 0.3989\n",
      "Epoch 67/100\n",
      "178/178 [==============================] - 0s 146us/step - loss: 1.0865 - accuracy: 0.3989\n",
      "Epoch 68/100\n",
      "178/178 [==============================] - 0s 104us/step - loss: 1.0864 - accuracy: 0.3989\n",
      "Epoch 69/100\n",
      "178/178 [==============================] - 0s 101us/step - loss: 1.0870 - accuracy: 0.3989\n",
      "Epoch 70/100\n",
      "178/178 [==============================] - 0s 84us/step - loss: 1.0867 - accuracy: 0.3989\n",
      "Epoch 71/100\n",
      "178/178 [==============================] - 0s 123us/step - loss: 1.0874 - accuracy: 0.3989\n",
      "Epoch 72/100\n",
      "178/178 [==============================] - 0s 112us/step - loss: 1.0871 - accuracy: 0.3989\n",
      "Epoch 73/100\n",
      "178/178 [==============================] - 0s 95us/step - loss: 1.0874 - accuracy: 0.3989\n",
      "Epoch 74/100\n",
      "178/178 [==============================] - 0s 106us/step - loss: 1.0875 - accuracy: 0.3989\n",
      "Epoch 75/100\n",
      "178/178 [==============================] - 0s 95us/step - loss: 1.0871 - accuracy: 0.3989\n",
      "Epoch 76/100\n",
      "178/178 [==============================] - 0s 118us/step - loss: 1.0873 - accuracy: 0.3989\n",
      "Epoch 77/100\n",
      "178/178 [==============================] - 0s 78us/step - loss: 1.0869 - accuracy: 0.3989\n",
      "Epoch 78/100\n",
      "178/178 [==============================] - 0s 157us/step - loss: 1.0871 - accuracy: 0.3989\n",
      "Epoch 79/100\n",
      "178/178 [==============================] - 0s 90us/step - loss: 1.0864 - accuracy: 0.3989\n",
      "Epoch 80/100\n",
      "178/178 [==============================] - 0s 84us/step - loss: 1.0873 - accuracy: 0.3989\n",
      "Epoch 81/100\n",
      "178/178 [==============================] - 0s 101us/step - loss: 1.0869 - accuracy: 0.3989\n",
      "Epoch 82/100\n",
      "178/178 [==============================] - 0s 101us/step - loss: 1.0873 - accuracy: 0.3989\n",
      "Epoch 83/100\n",
      "178/178 [==============================] - 0s 90us/step - loss: 1.0864 - accuracy: 0.3989\n",
      "Epoch 84/100\n",
      "178/178 [==============================] - 0s 84us/step - loss: 1.0871 - accuracy: 0.3989\n",
      "Epoch 85/100\n",
      "178/178 [==============================] - 0s 129us/step - loss: 1.0863 - accuracy: 0.3989\n",
      "Epoch 86/100\n",
      "178/178 [==============================] - 0s 106us/step - loss: 1.0868 - accuracy: 0.3989\n",
      "Epoch 87/100\n",
      "178/178 [==============================] - 0s 129us/step - loss: 1.0880 - accuracy: 0.3989\n",
      "Epoch 88/100\n",
      "178/178 [==============================] - 0s 146us/step - loss: 1.0868 - accuracy: 0.3989\n",
      "Epoch 89/100\n",
      "178/178 [==============================] - 0s 134us/step - loss: 1.0870 - accuracy: 0.3989\n",
      "Epoch 90/100\n",
      "178/178 [==============================] - 0s 106us/step - loss: 1.0874 - accuracy: 0.3989\n",
      "Epoch 91/100\n",
      "178/178 [==============================] - 0s 146us/step - loss: 1.0866 - accuracy: 0.3989\n",
      "Epoch 92/100\n",
      "178/178 [==============================] - 0s 118us/step - loss: 1.0865 - accuracy: 0.3989\n",
      "Epoch 93/100\n",
      "178/178 [==============================] - 0s 106us/step - loss: 1.0871 - accuracy: 0.3989\n",
      "Epoch 94/100\n",
      "178/178 [==============================] - 0s 118us/step - loss: 1.0874 - accuracy: 0.3989\n",
      "Epoch 95/100\n",
      "178/178 [==============================] - 0s 168us/step - loss: 1.0872 - accuracy: 0.3989\n",
      "Epoch 96/100\n",
      "178/178 [==============================] - 0s 118us/step - loss: 1.0866 - accuracy: 0.3989\n",
      "Epoch 97/100\n",
      "178/178 [==============================] - 0s 112us/step - loss: 1.0866 - accuracy: 0.3989\n",
      "Epoch 98/100\n",
      "178/178 [==============================] - 0s 118us/step - loss: 1.0865 - accuracy: 0.3989\n",
      "Epoch 99/100\n",
      "178/178 [==============================] - 0s 101us/step - loss: 1.0872 - accuracy: 0.3989\n",
      "Epoch 100/100\n",
      "178/178 [==============================] - 0s 106us/step - loss: 1.0871 - accuracy: 0.3989\n"
     ]
    },
    {
     "data": {
      "text/plain": [
       "<keras.callbacks.callbacks.History at 0x14c2f197e08>"
      ]
     },
     "execution_count": 45,
     "metadata": {},
     "output_type": "execute_result"
    }
   ],
   "source": [
    "model.fit(X,y_cat, epochs=100)"
   ]
  },
  {
   "cell_type": "code",
   "execution_count": 43,
   "metadata": {},
   "outputs": [],
   "source": [
    "# import keras.backend as K"
   ]
  },
  {
   "cell_type": "code",
   "execution_count": 44,
   "metadata": {},
   "outputs": [],
   "source": [
    "# K.clear_session()"
   ]
  },
  {
   "cell_type": "code",
   "execution_count": 46,
   "metadata": {},
   "outputs": [
    {
     "data": {
      "text/plain": [
       "[array([[ 0.6672286 ,  0.31065583, -0.51887786, -0.36774755, -0.14354806],\n",
       "        [-0.15070722,  0.13864109,  0.8223346 , -0.2329582 ,  0.56029683],\n",
       "        [-0.2174885 , -0.5182729 , -0.5012296 ,  0.7781268 ,  0.18377487],\n",
       "        [-0.5463403 , -0.07881994, -0.40233377,  0.20674543, -0.2628434 ],\n",
       "        [-0.11754766,  0.57926965, -0.45901397,  0.02129013, -0.4378468 ],\n",
       "        [ 0.6255206 ,  0.16080748, -0.3232614 ,  0.27280965, -0.44788238],\n",
       "        [ 0.0204524 ,  0.4959563 , -0.39534795, -0.87510514, -0.00695543],\n",
       "        [ 0.19136877,  0.58354867, -0.28788528, -0.38562697,  0.01445699],\n",
       "        [ 0.42033738,  0.16018827, -0.5775095 , -0.1118138 , -0.3932902 ],\n",
       "        [-0.7945909 ,  0.678612  ,  0.15391618,  0.22994135, -0.2339575 ],\n",
       "        [ 0.09660098, -0.19645052,  0.7186744 ,  0.15194854, -0.33304125],\n",
       "        [-0.12299231, -0.4433374 ,  0.18455514,  0.50714046, -0.00710677],\n",
       "        [-0.718566  ,  0.7424265 ,  0.14443125, -0.18335868, -0.2252231 ]],\n",
       "       dtype=float32),\n",
       " array([ 0.        , -0.02951039, -0.03904054,  0.        ,  0.        ],\n",
       "       dtype=float32),\n",
       " array([[-0.4888805 , -0.1640405 , -0.19833069, -0.78719133,  0.6665132 ,\n",
       "         -0.52633923, -0.03920012,  1.2964624 ],\n",
       "        [ 0.23254205, -0.11617289, -0.38028365,  0.54158974,  0.01104805,\n",
       "          0.6475404 ,  1.0912249 ,  0.29590693],\n",
       "        [-0.47276053, -0.62255245,  0.6869684 ,  0.14958791, -0.06604367,\n",
       "          0.6690048 , -0.9949572 ,  0.0253171 ],\n",
       "        [-0.6335791 ,  1.1280025 , -0.30698946, -0.12503426,  0.67197317,\n",
       "          0.18672374,  1.1828251 , -0.02342947],\n",
       "        [-0.18099236, -0.16034417,  1.2141439 ,  0.4086436 ,  0.5558213 ,\n",
       "          0.7451357 , -0.6369463 , -0.85919636]], dtype=float32),\n",
       " array([-0.038884  ,  0.        ,  0.        , -0.0271944 , -0.03869706,\n",
       "        -0.03883002,  0.04026834,  0.04397836], dtype=float32),\n",
       " array([[ 0.3576951 ,  0.42506787],\n",
       "        [ 0.25414747,  0.34389392],\n",
       "        [-0.4645488 , -0.1737371 ],\n",
       "        [-0.02032784, -0.11763399],\n",
       "        [ 0.2756148 ,  0.52864903],\n",
       "        [ 0.3156234 , -0.7661904 ],\n",
       "        [-0.29623976,  0.08095275],\n",
       "        [-0.08350933,  0.48136458]], dtype=float32),\n",
       " array([-0.03943994,  0.        ], dtype=float32),\n",
       " array([[ 0.5857199 , -0.8687093 , -0.9681249 ],\n",
       "        [-0.29790527, -0.6422761 ,  0.10683417]], dtype=float32),\n",
       " array([ 0.0049048 ,  0.158837  , -0.19344673], dtype=float32)]"
      ]
     },
     "execution_count": 46,
     "metadata": {},
     "output_type": "execute_result"
    }
   ],
   "source": [
    "model.get_weights()"
   ]
  },
  {
   "cell_type": "code",
   "execution_count": 47,
   "metadata": {},
   "outputs": [],
   "source": [
    "model.save('modelsave.h5')"
   ]
  },
  {
   "cell_type": "code",
   "execution_count": null,
   "metadata": {},
   "outputs": [],
   "source": []
  }
 ],
 "metadata": {
  "kernelspec": {
   "display_name": "Python 3",
   "language": "python",
   "name": "python3"
  },
  "language_info": {
   "codemirror_mode": {
    "name": "ipython",
    "version": 3
   },
   "file_extension": ".py",
   "mimetype": "text/x-python",
   "name": "python",
   "nbconvert_exporter": "python",
   "pygments_lexer": "ipython3",
   "version": "3.7.4"
  }
 },
 "nbformat": 4,
 "nbformat_minor": 4
}
