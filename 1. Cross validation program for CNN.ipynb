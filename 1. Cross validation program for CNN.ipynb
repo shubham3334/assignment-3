{
 "cells": [
  {
   "cell_type": "markdown",
   "metadata": {},
   "source": [
    "# 1. Cross validation program for CNN"
   ]
  },
  {
   "cell_type": "code",
   "execution_count": null,
   "metadata": {
    "_uuid": "65722d537da78dcc7ba4b366ff6169ba3c3b5878",
    "collapsed": true
   },
   "outputs": [],
   "source": [
    "import pandas as pd\n",
    "import numpy as np\n",
    "\n",
    "import matplotlib.pyplot as plt\n",
    "import seaborn as sns\n",
    "import matplotlib.image as mimg\n",
    "%matplotlib inline\n",
    "plt.rcParams[\"figure.figsize\"] = (10,7)\n",
    "from PIL import Image\n",
    "from scipy import misc\n",
    "\n",
    "import os\n",
    "\n",
    "from sklearn.cross_validation import train_test_split\n",
    "from sklearn.metrics import classification_report, confusion_matrix\n",
    "\n",
    "\n",
    "# DEEP LEARNING IMPORTS\n",
    "from keras.models import Sequential, load_model\n",
    "from keras.layers import Dense, Conv2D, Activation, Dropout, Flatten, MaxPooling2D\n",
    "from keras.callbacks import ModelCheckpoint, EarlyStopping"
   ]
  },
  {
   "cell_type": "code",
   "execution_count": null,
   "metadata": {
    "_uuid": "403653e11ba61227a2f3e327f804362326dab5d7"
   },
   "outputs": [],
   "source": [
    "print(os.listdir(\"../input\"))"
   ]
  },
  {
   "cell_type": "markdown",
   "metadata": {
    "_uuid": "4a5d60fc4bf0b7452a747502f4d7149fe58076b5"
   },
   "source": [
    "Utility Functions"
   ]
  },
  {
   "cell_type": "code",
   "execution_count": null,
   "metadata": {
    "_uuid": "00100731cec598995f6311659b03daba5e6b0038",
    "collapsed": true
   },
   "outputs": [],
   "source": [
    "#one hot encoding function\n",
    "def one_hot_encoder(df_name, df_column_name, suffix=''):\n",
    "    temp = pd.get_dummies(df_name[df_column_name]) #get dummies is used to create dummy columns\n",
    "    df_name = df_name.join(temp, lsuffix=suffix) #join the newly created dummy columns to original dataframe\n",
    "    df_name = df_name.drop(df_column_name, axis=1) #drop the old column used to create dummy columnss\n",
    "    return df_name\n",
    "\n",
    "\n",
    "#function to draw confusion matrix\n",
    "def draw_confusion_matrix(true,preds):\n",
    "    conf_matx = confusion_matrix(true, preds)\n",
    "    sns.heatmap(conf_matx, annot=True,annot_kws={\"size\": 12},fmt='g', cbar=False, cmap=\"viridis\")\n",
    "    plt.show()\n",
    "    #return conf_matx"
   ]
  },
  {
   "cell_type": "markdown",
   "metadata": {
    "_uuid": "9229ff7ccbd4fe5e74d85f16410dda4ffc508d78"
   },
   "source": [
    "Read Train Dataset"
   ]
  },
  {
   "cell_type": "code",
   "execution_count": null,
   "metadata": {
    "_uuid": "55fee9deb160536eba48cd3a775db955fb2b3c5c",
    "collapsed": true
   },
   "outputs": [],
   "source": [
    "train_images = pd.read_csv(\"../input/fashion-mnist_train.csv\")"
   ]
  },
  {
   "cell_type": "code",
   "execution_count": null,
   "metadata": {
    "_uuid": "7b025e9f7863d0b6836d128c3d5f8ea2470ffdee",
    "collapsed": true
   },
   "outputs": [],
   "source": [
    "train_images_x = train_images.iloc[:,1:]"
   ]
  },
  {
   "cell_type": "code",
   "execution_count": null,
   "metadata": {
    "_uuid": "f1d2dbf3493802d4f407282897b0988efd7434c5",
    "collapsed": true,
    "scrolled": false
   },
   "outputs": [],
   "source": [
    "train_images_array = train_images_x.values\n",
    "train_x = train_images_array.reshape(train_images_array.shape[0], 28, 28, 1)\n",
    "train_x_scaled = train_x/255"
   ]
  },
  {
   "cell_type": "code",
   "execution_count": null,
   "metadata": {
    "_uuid": "91dcee87af9a6c1ac0c0d68e6a46e1be16527b4b",
    "collapsed": true
   },
   "outputs": [],
   "source": [
    "IMAGE_SIZE = (28, 28, 1)"
   ]
  },
  {
   "cell_type": "markdown",
   "metadata": {
    "_uuid": "8dbbd1b352a833f12b7bfcc4c5afaffba9e2d4da"
   },
   "source": [
    "Read the training labels and one hot encode the labels"
   ]
  },
  {
   "cell_type": "code",
   "execution_count": null,
   "metadata": {
    "_uuid": "74af695072c5ee3d9b45c805944b6e3505fbd103",
    "collapsed": true
   },
   "outputs": [],
   "source": [
    "### read the image labels and one hot encode the labels\n",
    "train_images_y = train_images[['label']]\n",
    "\n",
    "#do one hot encoding with the earlier created function\n",
    "train_images_y_encoded = one_hot_encoder(train_images_y, 'label', 'lab')\n",
    "print(train_images_y_encoded.head())\n",
    "\n",
    "#get the labels as an array\n",
    "train_images_y_encoded = train_images_y_encoded.values"
   ]
  },
  {
   "cell_type": "code",
   "execution_count": null,
   "metadata": {
    "_uuid": "752e386c0316ba523319616777b6360233d4dd6a",
    "collapsed": true
   },
   "outputs": [],
   "source": [
    "#check to see if distribution of target labels are equal (if not equal we need to assign weights to classes)\n",
    "plt.bar(train_images_y['label'].value_counts().index, train_images_y['label'].value_counts().values)"
   ]
  },
  {
   "cell_type": "markdown",
   "metadata": {
    "_uuid": "d8f5a0e8aea0a039f1eed42a592493057c059ec3"
   },
   "source": [
    "Read the test dataset"
   ]
  },
  {
   "cell_type": "code",
   "execution_count": null,
   "metadata": {
    "_uuid": "58852ddbc4f41e6055c511bfffdaa4991e78525f",
    "collapsed": true
   },
   "outputs": [],
   "source": [
    "test_images = pd.read_csv(\"../input/fashion-mnist_test.csv\")"
   ]
  },
  {
   "cell_type": "code",
   "execution_count": null,
   "metadata": {
    "_uuid": "48ecfd5eae96b5ae2954496299c17a44503b9c40",
    "collapsed": true
   },
   "outputs": [],
   "source": [
    "test_images_x = test_images.iloc[:,1:]\n",
    "\n",
    "test_images_array = test_images_x.values\n",
    "test_x = test_images_array.reshape(test_images_array.shape[0], 28, 28, 1)\n",
    "test_x_scaled = test_x/255"
   ]
  },
  {
   "cell_type": "markdown",
   "metadata": {
    "_uuid": "f79e43170780886bc4a6656430cc39cc6bfa3bce"
   },
   "source": [
    "Read test dataset labels"
   ]
  },
  {
   "cell_type": "code",
   "execution_count": null,
   "metadata": {
    "_uuid": "6894d2b517b61c46503f530b2ec581a9641c90e4",
    "collapsed": true
   },
   "outputs": [],
   "source": [
    "test_images_y = test_images[['label']]\n",
    "test_images_y_encoded = one_hot_encoder(test_images_y, 'label', 'lab')\n",
    "#get the labels as an array\n",
    "test_images_y_encoded = test_images_y_encoded.values"
   ]
  },
  {
   "cell_type": "markdown",
   "metadata": {
    "_uuid": "2deb70a455e1919942424c9800fa962703cc6e13"
   },
   "source": [
    "Split into train adn test set"
   ]
  },
  {
   "cell_type": "code",
   "execution_count": null,
   "metadata": {
    "_uuid": "6a6e7cf2f7a9aad478282a4388ef121cbdd502f6",
    "collapsed": true
   },
   "outputs": [],
   "source": [
    "train_x, test_x, train_y, test_y = train_test_split(train_x_scaled, train_images_y_encoded, random_state = 101, \n",
    "                                                   test_size=0.25)"
   ]
  },
  {
   "cell_type": "markdown",
   "metadata": {
    "_uuid": "e61c0c49dce91edc5e01be01d5c8c5f0dbb3ea47"
   },
   "source": [
    "Defining the CNN Architecture"
   ]
  },
  {
   "cell_type": "code",
   "execution_count": null,
   "metadata": {
    "_uuid": "ad06da355d047268df3a5b4e8c03e0acf5b96d12",
    "collapsed": true
   },
   "outputs": [],
   "source": [
    "def cnn_model(size, num_cnn_layers):\n",
    "    NUM_FILTERS = 32\n",
    "    KERNEL = (3, 3)\n",
    "    #MIN_NEURONS = 20\n",
    "    MAX_NEURONS = 120\n",
    "    \n",
    "    model = Sequential()\n",
    "    \n",
    "    for i in range(1, num_cnn_layers+1):\n",
    "        if i == 1:\n",
    "            model.add(Conv2D(NUM_FILTERS*i, KERNEL, input_shape=size, activation='relu', padding='same'))\n",
    "        else:\n",
    "            model.add(Conv2D(NUM_FILTERS*i, KERNEL, activation='relu', padding='same'))\n",
    "\n",
    "    model.add(MaxPooling2D(pool_size=(2,2)))\n",
    "    model.add(Flatten())\n",
    "    model.add(Dense(int(MAX_NEURONS), activation='relu'))\n",
    "    model.add(Dropout(0.25))\n",
    "    model.add(Dense(int(MAX_NEURONS/2), activation='relu'))\n",
    "    model.add(Dense(10, activation='softmax'))\n",
    "    \n",
    "    model.compile(loss='categorical_crossentropy', optimizer='adam', metrics=['accuracy'])\n",
    "    \n",
    "    #print(model.summary())\n",
    "    \n",
    "    return model"
   ]
  },
  {
   "cell_type": "code",
   "execution_count": null,
   "metadata": {
    "_uuid": "f34d40d9f9194c9b74a5c42e2c214790dbe15380",
    "collapsed": true
   },
   "outputs": [],
   "source": [
    "model = cnn_model(IMAGE_SIZE, 2)"
   ]
  },
  {
   "cell_type": "code",
   "execution_count": null,
   "metadata": {
    "_uuid": "0330cb14751ab0756f805cde6060f3c4a189fe66",
    "collapsed": true
   },
   "outputs": [],
   "source": [
    "model.summary()"
   ]
  },
  {
   "cell_type": "markdown",
   "metadata": {
    "_uuid": "afa2113bde97504269df94fa58cbe64c6efbd48b"
   },
   "source": [
    "Define some callbacks "
   ]
  },
  {
   "cell_type": "code",
   "execution_count": null,
   "metadata": {
    "_uuid": "7fe200e36c058e0d88c8a61c8cdde1b2d49cd302",
    "collapsed": true
   },
   "outputs": [],
   "source": [
    "#set early stopping criteria\n",
    "pat = 5 #this is the number of epochs with no improvment after which the training will stop\n",
    "early_stopping = EarlyStopping(monitor='val_loss', patience=pat, verbose=1)\n",
    "\n",
    "#define the model checkpoint callback -> this will keep on saving the model as a physical file\n",
    "model_checkpoint = ModelCheckpoint('fas_mnist_1.h5', verbose=1, save_best_only=True)\n",
    "\n",
    "#define a function to fit the model\n",
    "def fit_and_evaluate(t_x, val_x, t_y, val_y, EPOCHS=20, BATCH_SIZE=128):\n",
    "    model = None\n",
    "    model = cnn_model(IMAGE_SIZE, 2)\n",
    "    results = model.fit(t_x, t_y, epochs=EPOCHS, batch_size=BATCH_SIZE, callbacks=[early_stopping, model_checkpoint], \n",
    "              verbose=1, validation_split=0.1)  \n",
    "    print(\"Val Score: \", model.evaluate(val_x, val_y))\n",
    "    return results"
   ]
  },
  {
   "cell_type": "markdown",
   "metadata": {
    "_uuid": "608e63c4dd13c1baa5ec96c1e0426a6d4c372669"
   },
   "source": [
    "Train the model with K-fold Cross Val"
   ]
  },
  {
   "cell_type": "code",
   "execution_count": null,
   "metadata": {
    "_uuid": "f38bd076bb1c36c8bdff7f4e08e3392d1e5a05df",
    "collapsed": true,
    "scrolled": false
   },
   "outputs": [],
   "source": [
    "n_folds=3\n",
    "epochs=20\n",
    "batch_size=128\n",
    "\n",
    "#save the model history in a list after fitting so that we can plot later\n",
    "model_history = [] \n",
    "\n",
    "for i in range(n_folds):\n",
    "    print(\"Training on Fold: \",i+1)\n",
    "    t_x, val_x, t_y, val_y = train_test_split(train_x, train_y, test_size=0.1, \n",
    "                                               random_state = np.random.randint(1,1000, 1)[0])\n",
    "    model_history.append(fit_and_evaluate(t_x, val_x, t_y, val_y, epochs, batch_size))\n",
    "    print(\"=======\"*12, end=\"\\n\\n\\n\")"
   ]
  },
  {
   "cell_type": "markdown",
   "metadata": {
    "_uuid": "4f0eab4ab1a3e00c4257df1fc9fb36fed7c378a3"
   },
   "source": [
    "Plots to see how the models are performing"
   ]
  },
  {
   "cell_type": "code",
   "execution_count": null,
   "metadata": {
    "_uuid": "e1cc0d6182d82c8021d9044343e4ec78ff109c2b",
    "collapsed": true
   },
   "outputs": [],
   "source": [
    "plt.title('Accuracies vs Epochs')\n",
    "plt.plot(model_history[0].history['acc'], label='Training Fold 1')\n",
    "plt.plot(model_history[1].history['acc'], label='Training Fold 2')\n",
    "plt.plot(model_history[2].history['acc'], label='Training Fold 3')\n",
    "plt.legend()\n",
    "plt.show()"
   ]
  },
  {
   "cell_type": "code",
   "execution_count": null,
   "metadata": {
    "_uuid": "34ae8d3cc4d89a5643f50351baaefc9ca855735f",
    "collapsed": true
   },
   "outputs": [],
   "source": [
    "plt.title('Train Accuracy vs Val Accuracy')\n",
    "plt.plot(model_history[0].history['acc'], label='Train Accuracy Fold 1', color='black')\n",
    "plt.plot(model_history[0].history['val_acc'], label='Val Accuracy Fold 1', color='black', linestyle = \"dashdot\")\n",
    "plt.plot(model_history[1].history['acc'], label='Train Accuracy Fold 2', color='red', )\n",
    "plt.plot(model_history[1].history['val_acc'], label='Val Accuracy Fold 2', color='red', linestyle = \"dashdot\")\n",
    "plt.plot(model_history[2].history['acc'], label='Train Accuracy Fold 3', color='green', )\n",
    "plt.plot(model_history[2].history['val_acc'], label='Val Accuracy Fold 3', color='green', linestyle = \"dashdot\")\n",
    "plt.legend()\n",
    "plt.show()"
   ]
  },
  {
   "cell_type": "markdown",
   "metadata": {
    "_uuid": "fcd18c7c8e619426fcbb9492bfadf203034daa0f"
   },
   "source": [
    "Test the score on the test split"
   ]
  },
  {
   "cell_type": "code",
   "execution_count": null,
   "metadata": {
    "_uuid": "adaaa9e280b512a1889f70671b8d2d0586414dd3",
    "collapsed": true
   },
   "outputs": [],
   "source": [
    "#Load the model that was saved by ModelCheckpoint\n",
    "model = load_model('fas_mnist_1.h5')"
   ]
  },
  {
   "cell_type": "code",
   "execution_count": null,
   "metadata": {
    "_uuid": "b01b5a5d8940e4c6a56483ab6c6d53d6a55ec839",
    "collapsed": true
   },
   "outputs": [],
   "source": [
    "model.evaluate(test_x, test_y)"
   ]
  },
  {
   "cell_type": "markdown",
   "metadata": {
    "_uuid": "731c595d51bfa3fcb83cb4230fc97b5aa41da570"
   },
   "source": [
    "Check scoring on the actual test set"
   ]
  },
  {
   "cell_type": "code",
   "execution_count": null,
   "metadata": {
    "_uuid": "d1f49fa697c3f7514f444a95244c10649152ede8",
    "collapsed": true,
    "scrolled": true
   },
   "outputs": [],
   "source": [
    "model.evaluate(test_x_scaled, test_images_y_encoded)"
   ]
  },
  {
   "cell_type": "code",
   "execution_count": null,
   "metadata": {
    "_uuid": "da3461622128e7004351e643ac3b37a555936c00",
    "collapsed": true
   },
   "outputs": [],
   "source": [
    "#function for converting predictions to labels\n",
    "def prep_submissions(preds_array, file_name='abc.csv'):\n",
    "    preds_df = pd.DataFrame(preds_array)\n",
    "    predicted_labels = preds_df.idxmax(axis=1) #convert back one hot encoding to categorical variabless\n",
    "    return predicted_labels\n",
    "    '''\n",
    "    ### prepare submissions in case you need to submit\n",
    "    submission = pd.read_csv(\"test.csv\")\n",
    "    submission['label'] = predicted_labels\n",
    "    submission.to_csv(file_name, index=False)\n",
    "    print(pd.read_csv(file_name).head())\n",
    "    '''"
   ]
  },
  {
   "cell_type": "code",
   "execution_count": null,
   "metadata": {
    "_uuid": "bc7e81361ad4b6114910ed5e4ffba44c1619e6fa",
    "collapsed": true
   },
   "outputs": [],
   "source": [
    "test_preds = model.predict(test_x_scaled)\n",
    "test_preds_labels = prep_submissions(test_preds)"
   ]
  },
  {
   "cell_type": "code",
   "execution_count": null,
   "metadata": {
    "_uuid": "c4dd29539b0e22dcdda20195920425c4132b2da0",
    "collapsed": true
   },
   "outputs": [],
   "source": [
    "print(classification_report(test_images_y, test_preds_labels))"
   ]
  },
  {
   "cell_type": "code",
   "execution_count": null,
   "metadata": {
    "_uuid": "bf840f5c0fb3dafe473741ec29e150eb4e588678"
   },
   "outputs": [],
   "source": [
    "draw_confusion_matrix(test_images_y, test_preds_labels)"
   ]
  }
 ],
 "metadata": {
  "kernelspec": {
   "display_name": "Python 3",
   "language": "python",
   "name": "python3"
  },
  "language_info": {
   "codemirror_mode": {
    "name": "ipython",
    "version": 3
   },
   "file_extension": ".py",
   "mimetype": "text/x-python",
   "name": "python",
   "nbconvert_exporter": "python",
   "pygments_lexer": "ipython3",
   "version": "3.7.4"
  }
 },
 "nbformat": 4,
 "nbformat_minor": 1
}
