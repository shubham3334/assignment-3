{
 "cells": [
  {
   "cell_type": "markdown",
   "metadata": {
    "_uuid": "65d94bb190641a74373840e55e6dcda51edca7e6"
   },
   "source": [
    "## 5. CNN for Image classification\n",
    "## Dogs vs. Cats\n",
    "\n",
    "-Image Binary Classification"
   ]
  },
  {
   "cell_type": "markdown",
   "metadata": {
    "_uuid": "d7d65fa4865546ce530a4d7dd55945800f0abe6b"
   },
   "source": [
    "#### Library Importing"
   ]
  },
  {
   "cell_type": "code",
   "execution_count": null,
   "metadata": {
    "_uuid": "8e98a89ce51d7a60a1e5c5ff8ba4518ddfdbd809"
   },
   "outputs": [],
   "source": [
    "import keras\n",
    "import numpy as np\n",
    "import pandas as pd\n",
    "from PIL import Image as img"
   ]
  },
  {
   "cell_type": "code",
   "execution_count": null,
   "metadata": {
    "_uuid": "82bd2073e2e702fb1a2b9212faf263155492d70e"
   },
   "outputs": [],
   "source": [
    "import glob\n",
    "from tqdm import tqdm\n",
    "import matplotlib.pyplot as plt"
   ]
  },
  {
   "cell_type": "markdown",
   "metadata": {
    "_uuid": "e825a3033682621a86bd249dfe4b79fa5e648ac7"
   },
   "source": [
    "#### Change Image Data Format"
   ]
  },
  {
   "cell_type": "code",
   "execution_count": null,
   "metadata": {
    "_uuid": "b29c2d46a49f9beb91c8f69040a477205c183a2f"
   },
   "outputs": [],
   "source": [
    "keras.backend.image_data_format()"
   ]
  },
  {
   "cell_type": "code",
   "execution_count": null,
   "metadata": {
    "_uuid": "724f94a5ab02bc11cf6c44603349074382dc53d7"
   },
   "outputs": [],
   "source": [
    "keras.backend.set_image_data_format(\"channels_first\")\n",
    "keras.backend.image_data_format()"
   ]
  },
  {
   "cell_type": "markdown",
   "metadata": {
    "_uuid": "3ffcfd61f1898782527d8574cba77f3edfde79c9"
   },
   "source": [
    "#### Data Preview"
   ]
  },
  {
   "cell_type": "code",
   "execution_count": null,
   "metadata": {
    "_uuid": "6fe2247a196ac0a98799b44400e18a039c632c44"
   },
   "outputs": [],
   "source": [
    "img.open(\"../input/train/train/dog.10001.jpg\").resize((64, 64)).convert(\"L\")"
   ]
  },
  {
   "cell_type": "code",
   "execution_count": null,
   "metadata": {
    "_uuid": "44ef72f2296139ab123f786f958bd8b5f57a2311"
   },
   "outputs": [],
   "source": [
    "img.open(\"../input/train/train/cat.10001.jpg\").resize((64, 64)).convert(\"L\")"
   ]
  },
  {
   "cell_type": "markdown",
   "metadata": {
    "_uuid": "4d1b16b05c50caa7e61b24c886f2d56347121474"
   },
   "source": [
    "#### Data Load(for Training)"
   ]
  },
  {
   "cell_type": "code",
   "execution_count": null,
   "metadata": {
    "_uuid": "7d99bae32e3a32271df7af9c2c3b4426b83bf41b"
   },
   "outputs": [],
   "source": [
    "dog_train_list = glob.glob(\"../input/train/train/dog.*.jpg\")\n",
    "cat_train_list = glob.glob(\"../input/train/train/cat.*.jpg\")"
   ]
  },
  {
   "cell_type": "code",
   "execution_count": null,
   "metadata": {
    "_uuid": "5b245680db316c2a73d5cf5aa80d2b7012b92991"
   },
   "outputs": [],
   "source": [
    "x_train = []\n",
    "\n",
    "for i in tqdm(dog_train_list):\n",
    "    temp = img.open(i).resize((64, 64))\n",
    "    temp = temp.convert(\"L\")\n",
    "    \n",
    "    x_train.append((np.array(temp) - np.mean(temp)) / np.std(temp))\n",
    "    x_train.append((np.array(temp.rotate(90)) - np.mean(temp)) / np.std(temp))\n",
    "    x_train.append((np.array(temp.rotate(180)) - np.mean(temp)) / np.std(temp))\n",
    "    x_train.append((np.array(temp.rotate(270)) - np.mean(temp)) / np.std(temp))\n",
    "    \n",
    "#    if not idx % 200:\n",
    "#        print(idx)\n",
    "\n",
    "y_train = np.tile(1, len(dog_train_list)*4)\n",
    "print(\"dog's images loading is done\")"
   ]
  },
  {
   "cell_type": "code",
   "execution_count": null,
   "metadata": {
    "_uuid": "0fe2a8e7b2267cc677f0264352a28f4148b407a0"
   },
   "outputs": [],
   "source": [
    "for i in tqdm(cat_train_list):\n",
    "    temp = img.open(i).resize((64, 64))\n",
    "    temp = temp.convert(\"L\")\n",
    "    \n",
    "    x_train.append((np.array(temp) - np.mean(temp)) / np.std(temp))\n",
    "    x_train.append((np.array(temp.rotate(90)) - np.mean(temp)) / np.std(temp))\n",
    "    x_train.append((np.array(temp.rotate(180)) - np.mean(temp)) / np.std(temp))\n",
    "    x_train.append((np.array(temp.rotate(270)) - np.mean(temp)) / np.std(temp))\n",
    "    \n",
    "y_train = np.concatenate((y_train, np.tile(0, len(cat_train_list)*4))).astype(\"uint8\")\n",
    "print(\"cat's images loading is done\")"
   ]
  },
  {
   "cell_type": "code",
   "execution_count": null,
   "metadata": {
    "_uuid": "94be11a57e484b1d25c4dc4a9fa3cbb5445e446d"
   },
   "outputs": [],
   "source": [
    "a = np.asarray(x_train)\n",
    "x_train = a.reshape(a.shape[0], 1, a.shape[1], a.shape[2])"
   ]
  },
  {
   "cell_type": "code",
   "execution_count": null,
   "metadata": {
    "_uuid": "4c1db669091d670cddebbab00e5b3ff51c3a7770"
   },
   "outputs": [],
   "source": [
    "del(a)"
   ]
  },
  {
   "cell_type": "code",
   "execution_count": null,
   "metadata": {
    "_uuid": "b2884a7e9f33925d702b3bdca5fcaf1310f4e853"
   },
   "outputs": [],
   "source": [
    "x_train.shape"
   ]
  },
  {
   "cell_type": "markdown",
   "metadata": {
    "_uuid": "e5feca7bb92c0eb4dab5f81db29e19f7a1efde47"
   },
   "source": [
    "#### Model Generate"
   ]
  },
  {
   "cell_type": "code",
   "execution_count": null,
   "metadata": {
    "_uuid": "22df099e64774a50850c3fb673ef472e07535a36"
   },
   "outputs": [],
   "source": [
    "LeakyReLU = keras.layers.LeakyReLU(alpha=0.01)"
   ]
  },
  {
   "cell_type": "code",
   "execution_count": null,
   "metadata": {
    "_uuid": "3d5ec229e319ae036ea398e21150aaa13c14fb6c"
   },
   "outputs": [],
   "source": [
    "model = keras.models.Sequential()\n",
    "\n",
    "model.add(keras.layers.Conv2D(filters=32, kernel_size=(2, 2), input_shape=(1, 64, 64)))\n",
    "model.add(LeakyReLU)\n",
    "model.add(keras.layers.Dropout(rate=0.3))\n",
    "\n",
    "model.add(keras.layers.Conv2D(filters=32, kernel_size=(3, 3)))\n",
    "model.add(LeakyReLU)\n",
    "model.add(keras.layers.Dropout(rate=0.3))\n",
    "\n",
    "model.add(keras.layers.Conv2D(filters=64, activation=\"relu\", kernel_size=(3, 3)))\n",
    "model.add(keras.layers.MaxPooling2D(pool_size=(3, 3)))\n",
    "model.add(keras.layers.Dropout(rate=0.3))\n",
    "\n",
    "model.add(keras.layers.Flatten())\n",
    "model.add(keras.layers.Dense(units=12, activation=\"relu\"))\n",
    "model.add(keras.layers.Dense(units=1, activation=\"sigmoid\"))"
   ]
  },
  {
   "cell_type": "code",
   "execution_count": null,
   "metadata": {
    "_uuid": "6a92b5b9c9a3632456b6587bf883d3553bd5462a"
   },
   "outputs": [],
   "source": [
    "model.compile(optimizer=keras.optimizers.SGD(), loss=keras.losses.binary_crossentropy, metrics=[\"binary_accuracy\"])"
   ]
  },
  {
   "cell_type": "code",
   "execution_count": null,
   "metadata": {
    "_uuid": "8ed4393f75be2f89a6e232fdc609b22f3912c423"
   },
   "outputs": [],
   "source": [
    "model.summary()"
   ]
  },
  {
   "cell_type": "markdown",
   "metadata": {
    "_uuid": "23f7a898f35767ccf86c65448ca9fab17670f86c"
   },
   "source": [
    "#### Model Training"
   ]
  },
  {
   "cell_type": "code",
   "execution_count": null,
   "metadata": {
    "_uuid": "4833f4377f403570deb8f5f83c7e9b031458b688"
   },
   "outputs": [],
   "source": [
    "model.fit(x=x_train, y=y_train, epochs=10, validation_split=0.1, shuffle=True)"
   ]
  },
  {
   "cell_type": "code",
   "execution_count": null,
   "metadata": {
    "_uuid": "c9f7c48a254fea1691dbb799d9a88aa943c1b5b7"
   },
   "outputs": [],
   "source": [
    "model.save(\"Dogs_Cats_model_01.h5\")"
   ]
  },
  {
   "cell_type": "markdown",
   "metadata": {
    "_uuid": "7533738d81984b63b51a8c9cc2acb313f5db672b"
   },
   "source": [
    "#### Extra Model Training"
   ]
  },
  {
   "cell_type": "code",
   "execution_count": null,
   "metadata": {
    "_uuid": "620eeace3a5e81eac85d52cdb623a3206c73134b"
   },
   "outputs": [],
   "source": [
    "model = keras.models.load_model(\"Dogs_Cats_model_01.h5\")"
   ]
  },
  {
   "cell_type": "code",
   "execution_count": null,
   "metadata": {
    "_uuid": "f509135411b2a8e43125accdf36bcac5120bcfe4"
   },
   "outputs": [],
   "source": [
    "model.fit(x=x_train, y=y_train, epochs=2, validation_split=0.1, shuffle=True)"
   ]
  },
  {
   "cell_type": "code",
   "execution_count": null,
   "metadata": {
    "_uuid": "3ecb4338cb5056476e0197e93ffedddb2a947468"
   },
   "outputs": [],
   "source": [
    "len(model.history.history[\"binary_accuracy\"])"
   ]
  },
  {
   "cell_type": "markdown",
   "metadata": {
    "_uuid": "c7c4e3ecdb8000340c498d702e9b890e6c28d7e1"
   },
   "source": [
    "#### Model Training History"
   ]
  },
  {
   "cell_type": "code",
   "execution_count": null,
   "metadata": {
    "_uuid": "401d4c81e06c56ce5fb603052975ed7903c5e7b3"
   },
   "outputs": [],
   "source": [
    "np.arange(1, len(model.history.history[\"binary_accuracy\"])+1, 1)"
   ]
  },
  {
   "cell_type": "code",
   "execution_count": null,
   "metadata": {
    "_uuid": "79d9a3a3d92e0440fb9a2def54c19b35545bfe2b"
   },
   "outputs": [],
   "source": [
    "plt.figure(figsize=(20, 7))\n",
    "plt.subplot(1, 2, 1)\n",
    "plt.plot(model.history.history[\"binary_accuracy\"])\n",
    "plt.plot(model.history.history[\"val_binary_accuracy\"])\n",
    "plt.title(\"Model Accuracy\")\n",
    "plt.ylabel(\"Accuracy\")\n",
    "plt.xlabel(\"Epoch\")\n",
    "plt.legend([\"Train\", \"Val\"], loc=\"upper left\")\n",
    "#plt.xticks(np.arange(0, len(model.history.history[\"binary_accuracy\"]), 1))\n",
    "\n",
    "plt.xticks(np.arange(len(model.history.history[\"binary_accuracy\"])), np.arange(1, len(model.history.history[\"binary_accuracy\"])+1, 1))\n",
    "\n",
    "plt.subplot(1, 2, 2)\n",
    "plt.plot(model.history.history[\"loss\"])\n",
    "plt.plot(model.history.history[\"val_loss\"])\n",
    "plt.title(\"Model Loss\")\n",
    "plt.ylabel(\"Loss\")\n",
    "plt.xlabel(\"Epoch\")\n",
    "plt.legend([\"Train\", \"Val\"], loc=\"upper right\")\n",
    "plt.xticks(np.arange(len(model.history.history[\"loss\"])), np.arange(1, len(model.history.history[\"loss\"])+1, 1))\n",
    "plt.show()"
   ]
  },
  {
   "cell_type": "markdown",
   "metadata": {
    "_uuid": "65f6fc068cc65f455bbf3ecb2742af0cc7e09274"
   },
   "source": [
    "#### Data Load(for Test)"
   ]
  },
  {
   "cell_type": "code",
   "execution_count": null,
   "metadata": {
    "_uuid": "3fc08c899427a1222840540ac7242f1326294132"
   },
   "outputs": [],
   "source": [
    "test_list = glob.glob(\"../input/test1/test1/*.jpg\")"
   ]
  },
  {
   "cell_type": "code",
   "execution_count": null,
   "metadata": {
    "_uuid": "30a28ff89b83a5066becc7963ddd6a049b01b5d4"
   },
   "outputs": [],
   "source": [
    "x_test = []\n",
    "\n",
    "for i in tqdm(test_list):\n",
    "    temp = img.open(i).resize((64, 64))\n",
    "    temp = temp.convert(\"L\")\n",
    "    x_test.append((np.array(temp) - np.mean(temp)) / np.std(temp))\n",
    "\n",
    "print(\"test images loading is done\")"
   ]
  },
  {
   "cell_type": "code",
   "execution_count": null,
   "metadata": {
    "_uuid": "95f05592233351c8a1c505cc8718da8cc10d86cc"
   },
   "outputs": [],
   "source": [
    "a = np.asarray(x_test)\n",
    "x_test = a.reshape(a.shape[0], 1, a.shape[1], a.shape[2])"
   ]
  },
  {
   "cell_type": "code",
   "execution_count": null,
   "metadata": {
    "_uuid": "dff23c712665c31c023bf96321ffcd2baf045114"
   },
   "outputs": [],
   "source": [
    "del(a)"
   ]
  },
  {
   "cell_type": "markdown",
   "metadata": {
    "_uuid": "848c1dcd4aa4bee440270fa01c774a912fbd5300"
   },
   "source": [
    "#### Predict"
   ]
  },
  {
   "cell_type": "code",
   "execution_count": null,
   "metadata": {
    "_uuid": "84dbb935751f294401fb88fd78ce5c3501cc3482"
   },
   "outputs": [],
   "source": [
    "result = model.predict(x=x_test)"
   ]
  }
 ],
 "metadata": {
  "kernelspec": {
   "display_name": "Python 3",
   "language": "python",
   "name": "python3"
  },
  "language_info": {
   "codemirror_mode": {
    "name": "ipython",
    "version": 3
   },
   "file_extension": ".py",
   "mimetype": "text/x-python",
   "name": "python",
   "nbconvert_exporter": "python",
   "pygments_lexer": "ipython3",
   "version": "3.7.4"
  }
 },
 "nbformat": 4,
 "nbformat_minor": 1
}
